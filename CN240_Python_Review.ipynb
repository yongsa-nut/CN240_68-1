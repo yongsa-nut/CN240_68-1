{
  "nbformat": 4,
  "nbformat_minor": 0,
  "metadata": {
    "colab": {
      "provenance": [],
      "authorship_tag": "ABX9TyOuBaS3fqCfFrNVL54gNgVS",
      "include_colab_link": true
    },
    "kernelspec": {
      "name": "python3",
      "display_name": "Python 3"
    },
    "language_info": {
      "name": "python"
    }
  },
  "cells": [
    {
      "cell_type": "markdown",
      "metadata": {
        "id": "view-in-github",
        "colab_type": "text"
      },
      "source": [
        "<a href=\"https://colab.research.google.com/github/yongsa-nut/CN240_68-1/blob/main/CN240_Python_Review.ipynb\" target=\"_parent\"><img src=\"https://colab.research.google.com/assets/colab-badge.svg\" alt=\"Open In Colab\"/></a>"
      ]
    },
    {
      "cell_type": "markdown",
      "source": [
        "# Python Review\n",
        "\n",
        "This exercise will recap python and get you to familiar with google colab."
      ],
      "metadata": {
        "id": "s59E3zNPbb6o"
      }
    },
    {
      "cell_type": "code",
      "source": [
        "print('Hello World')"
      ],
      "metadata": {
        "id": "wFtv4t0PdNra"
      },
      "execution_count": null,
      "outputs": []
    },
    {
      "cell_type": "markdown",
      "source": [
        "Things we will not use from CN101: input, formatting, named constants, ASCII."
      ],
      "metadata": {
        "id": "I-d7jym5dvu-"
      }
    },
    {
      "cell_type": "markdown",
      "source": [
        "Topics:\n",
        "- Basic types\n",
        "- Lists\n",
        "- Tuples\n",
        "- Dictionary\n",
        "- Functions\n",
        "- for loop and if else"
      ],
      "metadata": {
        "id": "QOOmBgnHbtxo"
      }
    },
    {
      "cell_type": "markdown",
      "source": [
        "## Basic types"
      ],
      "metadata": {
        "id": "zin9E_zNshxJ"
      }
    },
    {
      "cell_type": "code",
      "source": [
        "# String\n",
        "my_string = \"Hello\"\n",
        "\n",
        "# int\n",
        "my_number = 123\n",
        "\n",
        "# float\n",
        "my_float = 12.32\n",
        "\n",
        "# boolean\n",
        "my_truth = True\n",
        "\n",
        "\n",
        "print(\"my_string:\", type(my_string))\n",
        "print(\"my_number:\", type(my_number))\n",
        "print(\"my_float:\", type(my_float))\n",
        "print(\"my_truth:\", type(my_truth))"
      ],
      "metadata": {
        "id": "_-6NS_0OsjAz"
      },
      "execution_count": null,
      "outputs": []
    },
    {
      "cell_type": "markdown",
      "source": [
        "## Lists"
      ],
      "metadata": {
        "id": "3ruU0Rz0cHZV"
      }
    },
    {
      "cell_type": "code",
      "source": [
        "# Creating lists\n",
        "numbers = [1, 2, 3, 4, 5]\n",
        "names = ['Alice', 'Bob', 'Charlie']\n",
        "mixed = [1, 'hello', 3.14, True]\n",
        "\n",
        "print(\"Numbers:\", numbers)\n",
        "print(\"Names:\", names)\n",
        "print(\"Mixed types:\", mixed)"
      ],
      "metadata": {
        "id": "fAX6mLuJcJoU"
      },
      "execution_count": null,
      "outputs": []
    },
    {
      "cell_type": "code",
      "source": [
        "# Indexing (remember: Python uses 0-based indexing)\n",
        "print(\"First element:\", numbers[0])\n",
        "print(\"Last element:\", numbers[-1])"
      ],
      "metadata": {
        "id": "PWBS7tzkdR8l"
      },
      "execution_count": null,
      "outputs": []
    },
    {
      "cell_type": "code",
      "source": [
        "# Slicing\n",
        "print(\"Full list:\", numbers)\n",
        "print(\"First three:\", numbers[:3])\n",
        "print(\"From index 2 to end:\", numbers[2:])\n",
        "print(\"Every other element:\", numbers[::2])"
      ],
      "metadata": {
        "id": "UKjHH0y-dWww"
      },
      "execution_count": null,
      "outputs": []
    },
    {
      "cell_type": "code",
      "source": [
        "# Basic list methods\n",
        "print(\"Original list:\", numbers)\n",
        "\n",
        "numbers.append(6)\n",
        "print(\"After append:\", numbers)"
      ],
      "metadata": {
        "id": "3EQ9YijZdZXs"
      },
      "execution_count": null,
      "outputs": []
    },
    {
      "cell_type": "code",
      "source": [
        "numbers.extend([7, 8])\n",
        "print(\"After extend:\", numbers)"
      ],
      "metadata": {
        "id": "jwMWLbV_sK33"
      },
      "execution_count": null,
      "outputs": []
    },
    {
      "cell_type": "code",
      "source": [
        "print(\"Before:\", names)\n",
        "names.remove('Bob')\n",
        "print(\"After remove:\", names)"
      ],
      "metadata": {
        "id": "LNDgFrDHsMwz"
      },
      "execution_count": null,
      "outputs": []
    },
    {
      "cell_type": "code",
      "source": [
        "# List comprehensions\n",
        "squares = [x**2 for x in range(5)]\n",
        "print(\"Squares:\", squares)\n",
        "\n",
        "num_squares = [n**2 for n in numbers]\n",
        "print(f\"{numbers} -> {num_squares}\")"
      ],
      "metadata": {
        "id": "bXLeEKS0d82Y"
      },
      "execution_count": null,
      "outputs": []
    },
    {
      "cell_type": "code",
      "source": [
        "# List comprehensions with conditions\n",
        "even_numbers = [x for x in range(10) if x % 2 == 0]\n",
        "print(\"Even numbers:\", even_numbers)"
      ],
      "metadata": {
        "id": "uBUTnhVkeFwG"
      },
      "execution_count": null,
      "outputs": []
    },
    {
      "cell_type": "markdown",
      "source": [
        "## Tuples"
      ],
      "metadata": {
        "id": "MYK302tId9Nv"
      }
    },
    {
      "cell_type": "code",
      "source": [
        "# Tuples are immutable (can't be changed)\n",
        "coordinates = (10, 20)\n",
        "print(\"\\nCoordinates:\", coordinates)\n",
        "print(\"X:\", coordinates[0])\n",
        "print(\"Y:\", coordinates[1])"
      ],
      "metadata": {
        "id": "vRTeUKdoed90"
      },
      "execution_count": null,
      "outputs": []
    },
    {
      "cell_type": "code",
      "source": [
        "# Unpacking\n",
        "x, y = coordinates\n",
        "print(f\"Unpacked: x={x}, y={y}\")"
      ],
      "metadata": {
        "id": "y3upA0XsfdPE"
      },
      "execution_count": null,
      "outputs": []
    },
    {
      "cell_type": "markdown",
      "source": [
        "## Dictionary"
      ],
      "metadata": {
        "id": "GUY0bnfkfe6z"
      }
    },
    {
      "cell_type": "code",
      "source": [
        "# Creating a dictionary\n",
        "student = {\n",
        "    'name': 'John Doe',\n",
        "    'age': 20,\n",
        "    'major': 'Data Science',\n",
        "    'gpa': 3.5\n",
        "}\n",
        "\n",
        "print(\"Student dictionary:\", student)"
      ],
      "metadata": {
        "id": "QCCVMSFHff26"
      },
      "execution_count": null,
      "outputs": []
    },
    {
      "cell_type": "code",
      "source": [
        "# Accessing values\n",
        "print(\"Student name:\", student['name'])\n",
        "print(\"Student name:\", student['gpa'])"
      ],
      "metadata": {
        "id": "3PfRqr7XgvVW"
      },
      "execution_count": null,
      "outputs": []
    },
    {
      "cell_type": "code",
      "source": [
        "# Using get() method (safer - won't crash if key doesn't exist)\n",
        "print(\"GPA:\", student.get('gpa'))\n",
        "print(\"Phone (doesn't exist):\", student.get('phone', 'Not provided'))"
      ],
      "metadata": {
        "id": "qktsv8-lgycW"
      },
      "execution_count": null,
      "outputs": []
    },
    {
      "cell_type": "code",
      "source": [
        "# Modifying and adding values\n",
        "student['age'] = 21  # Modify existing\n",
        "student['email'] = 'john@university.edu'  # Add new\n",
        "print(\"Updated student:\", student)"
      ],
      "metadata": {
        "id": "xDt3Zdvyg2e8"
      },
      "execution_count": null,
      "outputs": []
    },
    {
      "cell_type": "code",
      "source": [
        "# Dictionary methods\n",
        "print(\"All keys:\", student.keys())\n",
        "print(\"All values:\", student.values())\n",
        "print(\"All items:\", student.items())"
      ],
      "metadata": {
        "id": "2aqiFLrqg6pA"
      },
      "execution_count": null,
      "outputs": []
    },
    {
      "cell_type": "code",
      "source": [
        "# Iterating through dictionaries\n",
        "print(\"Iterating through keys:\")\n",
        "for key in student:\n",
        "    print(f\"  {key}: {student[key]}\")\n",
        "\n",
        "print(\"\\nIterating through items:\")\n",
        "for key, value in student.items():\n",
        "    print(f\"  {key} -> {value}\")"
      ],
      "metadata": {
        "id": "3Pf2LogDg9UQ"
      },
      "execution_count": null,
      "outputs": []
    },
    {
      "cell_type": "code",
      "source": [
        "# Nested dictionaries #1: dict of dict\n",
        "class_data = {\n",
        "    'student1': {'name': 'Alice', 'grade': 90},\n",
        "    'student2': {'name': 'Bob', 'grade': 85},\n",
        "    'student3': {'name': 'Charlie', 'grade': 92}\n",
        "}\n",
        "\n",
        "print(\"Class data:\", class_data)\n",
        "print(\"Bob's grade:\", class_data['student2']['grade'])"
      ],
      "metadata": {
        "id": "01uJdHcdhBq2"
      },
      "execution_count": null,
      "outputs": []
    },
    {
      "cell_type": "code",
      "source": [
        "# Nested dictionaries #2: dict of list\n",
        "student_score = {\n",
        "    'name' : ['Alice','Bob','Charlie'],\n",
        "    'math' : [10, 20, 15],\n",
        "    'english' : [20, 30, 40]\n",
        "}\n",
        "\n",
        "print(\"Student's score:\", student_score)\n",
        "print(\"Average math score:\", sum(student_score['math'])/len(student_score['math']))"
      ],
      "metadata": {
        "id": "_kFPkoJOhCSV"
      },
      "execution_count": null,
      "outputs": []
    },
    {
      "cell_type": "code",
      "source": [
        "# Nested dictionaries #3: list of dict\n",
        "student_list = [\n",
        "    {'name':'Alice','math':10,'english':20},\n",
        "    {'name':'Bob','math':20,'english':15},\n",
        "    {'name':'Charlie','math':30,'english':40}\n",
        "]\n",
        "\n",
        "print(\"Student list:\", student_list)"
      ],
      "metadata": {
        "id": "ElJQPbSlhLUS"
      },
      "execution_count": null,
      "outputs": []
    },
    {
      "cell_type": "markdown",
      "source": [
        "## For loop"
      ],
      "metadata": {
        "id": "vIpaCmHPeebK"
      }
    },
    {
      "cell_type": "code",
      "source": [
        "# For loops with different data structures\n",
        "print(\"Loop through list:\")\n",
        "fruits = ['apple', 'banana', 'orange']\n",
        "for fruit in fruits:\n",
        "    print(f\"  I like {fruit}\")"
      ],
      "metadata": {
        "id": "iJb708m5cOWd"
      },
      "execution_count": null,
      "outputs": []
    },
    {
      "cell_type": "code",
      "source": [
        "print(\"Loop through dictionary:\")\n",
        "inventory = {'apples': 5, 'bananas': 3, 'oranges': 2}\n",
        "for fruit, count in inventory.items():\n",
        "    if count < 3:\n",
        "        print(f\"  Low on {fruit}! Only {count} left\")\n",
        "    else:\n",
        "        print(f\"  {fruit}: {count} in stock\")"
      ],
      "metadata": {
        "id": "5Rf6opLPi8a5"
      },
      "execution_count": null,
      "outputs": []
    },
    {
      "cell_type": "markdown",
      "source": [
        "## Functions"
      ],
      "metadata": {
        "id": "oHj2jP2zigjW"
      }
    },
    {
      "cell_type": "code",
      "source": [
        "# Basic function\n",
        "def calculate_average(numbers):\n",
        "    \"\"\"Calculate the average of a list of numbers\"\"\"\n",
        "\n",
        "    return sum(numbers) / len(numbers)\n",
        "\n",
        "test_scores = [85, 90, 78, 92, 88]\n",
        "avg = calculate_average(test_scores)\n",
        "print(f\"Average score: {avg:.2f}\")"
      ],
      "metadata": {
        "id": "4fO6xfisijQM"
      },
      "execution_count": null,
      "outputs": []
    },
    {
      "cell_type": "code",
      "source": [
        "# Function with multiple parameters\n",
        "def get_student_info(name, age, major=\"Undeclared\"):\n",
        "    \"\"\"Create a student information dictionary\"\"\"\n",
        "\n",
        "    return {\n",
        "        'name': name,\n",
        "        'age': age,\n",
        "        'major': major\n",
        "    }\n",
        "\n",
        "student1 = get_student_info(\"Alice\", 20, \"Data Science\")\n",
        "student2 = get_student_info(\"Bob\", 19)  # Uses default major\n",
        "print(\"Student 1:\", student1)\n",
        "print(\"Student 2:\", student2)"
      ],
      "metadata": {
        "id": "Yiwux6JFikwD"
      },
      "execution_count": null,
      "outputs": []
    },
    {
      "cell_type": "markdown",
      "source": [
        "## Import and library"
      ],
      "metadata": {
        "id": "Mo13A8alizep"
      }
    },
    {
      "cell_type": "code",
      "source": [
        "### Import Statements (3 minutes)\n",
        "\n",
        "# Different ways to import\n",
        "import math\n",
        "print(f\"Pi value: {math.pi}\")\n",
        "print(f\"Square root of 16: {math.sqrt(16)}\")"
      ],
      "metadata": {
        "id": "T528m9OKi1WZ"
      },
      "execution_count": null,
      "outputs": []
    },
    {
      "cell_type": "code",
      "source": [
        "# Import specific functions\n",
        "from random import randint, choice\n",
        "print(f\"Random number 1-10: {randint(1, 10)}\")\n",
        "print(f\"Random fruit: {choice(fruits)}\")"
      ],
      "metadata": {
        "id": "e2ZoRejXjBhR"
      },
      "execution_count": null,
      "outputs": []
    },
    {
      "cell_type": "code",
      "source": [
        "# Import with alias (this is how we'll import pandas!)\n",
        "import random as rd\n",
        "print(f\"Random float: {rd.random()}\")"
      ],
      "metadata": {
        "id": "by68xRNLjCtw"
      },
      "execution_count": null,
      "outputs": []
    },
    {
      "cell_type": "markdown",
      "source": [
        "## Numpy library"
      ],
      "metadata": {
        "id": "L39ZorY7jE0T"
      }
    },
    {
      "cell_type": "markdown",
      "source": [
        "### Why NumPy?"
      ],
      "metadata": {
        "id": "kCDqyuWElqNP"
      }
    },
    {
      "cell_type": "code",
      "source": [
        "# Problem with regular Python lists for numerical computation\n",
        "list1 = [1, 2, 3, 4, 5]\n",
        "list2 = [10, 20, 30, 40, 50]\n",
        "\n",
        "# To add corresponding elements, we need loops\n",
        "result = []\n",
        "for i in range(len(list1)):\n",
        "    result.append(list1[i] + list2[i])\n",
        "print(\"List addition result:\", result)"
      ],
      "metadata": {
        "id": "oItsD_VNlrd_"
      },
      "execution_count": null,
      "outputs": []
    },
    {
      "cell_type": "code",
      "source": [
        "# Let's see how NumPy makes this easier\n",
        "import numpy as np\n",
        "\n",
        "# Creating NumPy arrays\n",
        "arr1 = np.array([1, 2, 3, 4, 5])\n",
        "arr2 = np.array([10, 20, 30, 40, 50])\n",
        "\n",
        "# Element-wise operations are natural in NumPy!\n",
        "result = arr1 + arr2\n",
        "print(\"NumPy addition:\", result)\n",
        "print(\"Multiply by 2:\", arr1 * 2)\n",
        "print(\"Square each element:\", arr1 ** 2)"
      ],
      "metadata": {
        "id": "ZRK5V0YWlv6z"
      },
      "execution_count": null,
      "outputs": []
    },
    {
      "cell_type": "markdown",
      "source": [
        "### Creating NumPy Arrays"
      ],
      "metadata": {
        "id": "oRhIctnvlyTH"
      }
    },
    {
      "cell_type": "code",
      "execution_count": null,
      "metadata": {
        "id": "KTVc7oZO56qc"
      },
      "outputs": [],
      "source": [
        "# From lists\n",
        "my_list = [1, 2, 3, 4, 5]\n",
        "my_array = np.array(my_list)\n",
        "print(\"From list:\", my_array)\n",
        "print(\"Type:\", type(my_array))"
      ]
    },
    {
      "cell_type": "code",
      "source": [
        "# Creating arrays with built-in functions\n",
        "zeros = np.zeros(5)\n",
        "ones = np.ones(5)\n",
        "range_array = np.arange(0, 10, 2)  # start, stop, step\n",
        "linspace_array = np.linspace(0, 1, 5)  # 5 evenly spaced numbers from 0 to 1\n",
        "\n",
        "print(\"Zeros:\", zeros)\n",
        "print(\"Ones:\", ones)\n",
        "print(\"Range array:\", range_array)\n",
        "print(\"Linspace array:\", linspace_array)"
      ],
      "metadata": {
        "id": "r1HZWjqamKIe"
      },
      "execution_count": null,
      "outputs": []
    },
    {
      "cell_type": "markdown",
      "source": [
        "### Basic Array Operations"
      ],
      "metadata": {
        "id": "_Xda3yTxmNF5"
      }
    },
    {
      "cell_type": "code",
      "source": [
        "# Mathematical operations\n",
        "arr = np.array([1, 2, 3, 4, 5])\n",
        "print(\"Original array:\", arr)\n",
        "print(\"Sum:\", arr.sum())\n",
        "print(\"Mean:\", arr.mean())\n",
        "print(\"Standard deviation:\", arr.std())\n",
        "print(\"Min:\", arr.min())\n",
        "print(\"Max:\", arr.max())"
      ],
      "metadata": {
        "id": "mda3yRGRmPpg"
      },
      "execution_count": null,
      "outputs": []
    },
    {
      "cell_type": "code",
      "source": [
        "# Boolean operations (very important for data filtering)\n",
        "print(\"Boolean operations:\")\n",
        "print(\"Greater than 3:\", arr > 3)\n",
        "print(\"Elements greater than 3:\", arr[arr > 3])"
      ],
      "metadata": {
        "id": "GDWj2hQcmQu7"
      },
      "execution_count": null,
      "outputs": []
    },
    {
      "cell_type": "code",
      "source": [
        "# Multiple conditions\n",
        "data = np.array([1, 5, 3, 8, 2, 7, 4])\n",
        "mask = (data > 2) & (data < 7)  # Note: use & not 'and' !!\n",
        "print(\"Data between 2 and 7:\", data[mask])"
      ],
      "metadata": {
        "id": "OTgeKBPHmTAk"
      },
      "execution_count": null,
      "outputs": []
    },
    {
      "cell_type": "markdown",
      "source": [
        "## Practice Exercises"
      ],
      "metadata": {
        "id": "OOE7qO4SjnDP"
      }
    },
    {
      "cell_type": "markdown",
      "source": [
        "## Exercise 1: Dictionaries\n",
        "Create a dictionary representing a book with title, author, year, and pages\n",
        "Then add a 'genre' field and print all the information\n"
      ],
      "metadata": {
        "id": "Yx5_5xNOjplt"
      }
    },
    {
      "cell_type": "code",
      "source": [
        "# Your code here:\n"
      ],
      "metadata": {
        "id": "T9spVU4_j-xz"
      },
      "execution_count": 40,
      "outputs": []
    },
    {
      "cell_type": "markdown",
      "source": [
        "### Exercise 2: Combining Concepts\n",
        "Create a dictionary where keys are student names and values are NumPy arrays of their test scores\n",
        "\n",
        "Calculate and print each student's average score"
      ],
      "metadata": {
        "id": "GqFFHHB4kHIy"
      }
    },
    {
      "cell_type": "code",
      "source": [
        "# Your code here:\n"
      ],
      "metadata": {
        "id": "LTpjJbvgjObs"
      },
      "execution_count": 41,
      "outputs": []
    },
    {
      "cell_type": "markdown",
      "source": [
        "## Summary\n",
        "\n",
        "Key Takeaways:\n",
        "1. Dictionaries are key-value pairs - perfect for labeled data\n",
        "2. NumPy arrays enable fast numerical operations\n",
        "3. NumPy arrays support element-wise operations and boolean indexing\n",
        "4. These concepts are the foundation for pandas DataFrames\n"
      ],
      "metadata": {
        "id": "SDZQvsNbjQBu"
      }
    }
  ]
}